{
 "cells": [
  {
   "cell_type": "code",
   "execution_count": null,
   "metadata": {},
   "outputs": [],
   "source": [
    "'''\n",
    "Breaks the large raw tweet data file into manageable portions\n",
    "\n",
    "'''\n",
    "\n",
    "import pandas as pd\n",
    "\n",
    "chunk_size = 10000\n",
    "batch_no = 1\n",
    "\n",
    "print(\"Beginning to parse tweets...\")\n",
    "\n",
    "for chunk in pd.read_csv(\"01-03_covid_data.csv\", chunksize = chunk_size, error_bad_lines=False):\n",
    "        chunk.to_csv(\"covid_data\" + str(batch_no) + \".csv\", index = False)\n",
    "        batch_no += 1\n",
    "\n",
    "print(\"Finished parsing tweets.\")"
   ]
  },
  {
   "cell_type": "code",
   "execution_count": 8,
   "metadata": {},
   "outputs": [
    {
     "name": "stdout",
     "output_type": "stream",
     "text": [
      "Beginning to assign sentiments\n",
      "Finished assigning sentiments.\n"
     ]
    }
   ],
   "source": [
    "'''\n",
    "Creates a dictionary mapping the value of \"state\" in each tweet with the average sentiment\n",
    "\n",
    "senitiment.polarity: denotes the sentiment of a text, float from -1 (completely negative) to 1 (completely positive) \n",
    "\n",
    "'''\n",
    "\n",
    "import csv\n",
    "import pandas as pd\n",
    "import textblob\n",
    "import glob\n",
    "\n",
    "sentimentDict = {}\n",
    "tweetList = []\n",
    "path = \"./*.csv\"\n",
    "\n",
    "print(\"Beginning to assign sentiments...\")\n",
    "#I put the samller chunked tweet files in to a directory called revisedCovidData\n",
    "for filename in glob.glob(path):\n",
    "    #Iterate through this directory, reading each file\n",
    "    with open(filename, 'r', encoding=\"utf-8\") as rawTweets:\n",
    "        #open as CSV iterator\n",
    "        readCSV = csv.reader(rawTweets)\n",
    "        #the first file has the header line, which needs to be skipped\n",
    "        #if filename == \".\\covid_data1.csv\":\n",
    "            #next(readCSV)\n",
    "        #Iterate through individual tweets\n",
    "        for line in readCSV:\n",
    "            if line[9] != \"Null\" or \"us_state\":\n",
    "                #calls text of each tweet as a TextBlob object\n",
    "                text = textblob.TextBlob(line[1])\n",
    "                #line[9] = state; if this state is already in the dictionary, the sentiment gets averaged\n",
    "                if line[9] in sentimentDict:\n",
    "                    sentimentDict[line[9]] = (sentimentDict[line[9]] +  (text.sentiment.polarity))/2\n",
    "                    #sentimentDict[line[9]].append(text.sentiment.polarity) <= if wanting a list instead of an average\n",
    "                else:\n",
    "                    #it state not already accounted for, saves it as a key with the relevant sentiment\n",
    "                    sentimentDict.update({line[9]: (text.sentiment.polarity)})\n",
    "\n",
    "\n",
    "#denote finished. These are large files, it takes a while\n",
    "print(\"Finished assigning sentiments.\")"
   ]
  },
  {
   "cell_type": "code",
   "execution_count": 11,
   "metadata": {},
   "outputs": [],
   "source": [
    "print(\"writing sentiments to file...\")\n",
    "with open(\"twitter_sentiments.csv\", \"w\") as outFile:\n",
    "    writer = csv.writer(outFile)\n",
    "    writer.writerow([\"State\", \"Avg. Sentiment\"])\n",
    "    for key, value in sentimentDict.items():\n",
    "        writer.writerow([key, value])\n",
    "print(\"finsished writing to file\")"
   ]
  },
  {
   "cell_type": "code",
   "execution_count": null,
   "metadata": {},
   "outputs": [],
   "source": []
  }
 ],
 "metadata": {
  "kernelspec": {
   "display_name": "Python 3",
   "language": "python",
   "name": "python3"
  },
  "language_info": {
   "codemirror_mode": {
    "name": "ipython",
    "version": 3
   },
   "file_extension": ".py",
   "mimetype": "text/x-python",
   "name": "python",
   "nbconvert_exporter": "python",
   "pygments_lexer": "ipython3",
   "version": "3.7.4"
  }
 },
 "nbformat": 4,
 "nbformat_minor": 2
}
